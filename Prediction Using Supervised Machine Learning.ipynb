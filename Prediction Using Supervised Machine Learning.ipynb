{
 "cells": [
  {
   "cell_type": "markdown",
   "id": "65aa0edb",
   "metadata": {},
   "source": [
    "##  Task 1 : Use Simple Linear Regression for fitting the best model for the given data set"
   ]
  },
  {
   "cell_type": "markdown",
   "id": "50796170",
   "metadata": {},
   "source": [
    "###  AUTHOR NAME : THEJAS ELDHOS KURIAN"
   ]
  },
  {
   "cell_type": "markdown",
   "id": "b0ff7afc",
   "metadata": {},
   "source": [
    "#### DATASET : http://bit.ly/w-data\n",
    "#### Predict the score of student who works 9.25 hours/day"
   ]
  },
  {
   "cell_type": "markdown",
   "id": "2af3a51f",
   "metadata": {},
   "source": [
    "### Step 1 : Importing neccessary libraries/packages"
   ]
  },
  {
   "cell_type": "code",
   "execution_count": 1,
   "id": "8e9fe33d",
   "metadata": {},
   "outputs": [],
   "source": [
    "import numpy as np \n",
    "import pandas as pd\n",
    "import seaborn as sns\n",
    "import matplotlib.pyplot as plt\n",
    "from sklearn.model_selection import train_test_split\n",
    "from sklearn.linear_model import LinearRegression\n",
    "from sklearn.metrics import mean_squared_error,r2_score,mean_absolute_error"
   ]
  },
  {
   "cell_type": "markdown",
   "id": "5c8ce108",
   "metadata": {},
   "source": [
    "### Step 2 : Importing the dataset"
   ]
  },
  {
   "cell_type": "code",
   "execution_count": 2,
   "id": "9c5bdf25",
   "metadata": {},
   "outputs": [
    {
     "data": {
      "text/html": [
       "<div>\n",
       "<style scoped>\n",
       "    .dataframe tbody tr th:only-of-type {\n",
       "        vertical-align: middle;\n",
       "    }\n",
       "\n",
       "    .dataframe tbody tr th {\n",
       "        vertical-align: top;\n",
       "    }\n",
       "\n",
       "    .dataframe thead th {\n",
       "        text-align: right;\n",
       "    }\n",
       "</style>\n",
       "<table border=\"1\" class=\"dataframe\">\n",
       "  <thead>\n",
       "    <tr style=\"text-align: right;\">\n",
       "      <th></th>\n",
       "      <th>Hours</th>\n",
       "      <th>Scores</th>\n",
       "    </tr>\n",
       "  </thead>\n",
       "  <tbody>\n",
       "    <tr>\n",
       "      <th>0</th>\n",
       "      <td>2.5</td>\n",
       "      <td>21</td>\n",
       "    </tr>\n",
       "    <tr>\n",
       "      <th>1</th>\n",
       "      <td>5.1</td>\n",
       "      <td>47</td>\n",
       "    </tr>\n",
       "    <tr>\n",
       "      <th>2</th>\n",
       "      <td>3.2</td>\n",
       "      <td>27</td>\n",
       "    </tr>\n",
       "    <tr>\n",
       "      <th>3</th>\n",
       "      <td>8.5</td>\n",
       "      <td>75</td>\n",
       "    </tr>\n",
       "    <tr>\n",
       "      <th>4</th>\n",
       "      <td>3.5</td>\n",
       "      <td>30</td>\n",
       "    </tr>\n",
       "    <tr>\n",
       "      <th>5</th>\n",
       "      <td>1.5</td>\n",
       "      <td>20</td>\n",
       "    </tr>\n",
       "    <tr>\n",
       "      <th>6</th>\n",
       "      <td>9.2</td>\n",
       "      <td>88</td>\n",
       "    </tr>\n",
       "    <tr>\n",
       "      <th>7</th>\n",
       "      <td>5.5</td>\n",
       "      <td>60</td>\n",
       "    </tr>\n",
       "    <tr>\n",
       "      <th>8</th>\n",
       "      <td>8.3</td>\n",
       "      <td>81</td>\n",
       "    </tr>\n",
       "    <tr>\n",
       "      <th>9</th>\n",
       "      <td>2.7</td>\n",
       "      <td>25</td>\n",
       "    </tr>\n",
       "  </tbody>\n",
       "</table>\n",
       "</div>"
      ],
      "text/plain": [
       "   Hours  Scores\n",
       "0    2.5      21\n",
       "1    5.1      47\n",
       "2    3.2      27\n",
       "3    8.5      75\n",
       "4    3.5      30\n",
       "5    1.5      20\n",
       "6    9.2      88\n",
       "7    5.5      60\n",
       "8    8.3      81\n",
       "9    2.7      25"
      ]
     },
     "execution_count": 2,
     "metadata": {},
     "output_type": "execute_result"
    }
   ],
   "source": [
    "URL = \"http://bit.ly/w-data\"\n",
    "data = pd.read_csv(URL)\n",
    "data.head(10)"
   ]
  },
  {
   "cell_type": "markdown",
   "id": "80bc90bc",
   "metadata": {},
   "source": [
    "### Step 3 : Choosing the appropriate variables "
   ]
  },
  {
   "cell_type": "code",
   "execution_count": 3,
   "id": "715fb3e5",
   "metadata": {},
   "outputs": [],
   "source": [
    "# x denotes independent variable \n",
    "x = data[\"Hours\"]\n",
    "# y denotes ependent variable\n",
    "y = data[\"Scores\"]"
   ]
  },
  {
   "cell_type": "markdown",
   "id": "22cd3a07",
   "metadata": {},
   "source": [
    "### Step 4 : Plotting the graph of given data"
   ]
  },
  {
   "cell_type": "code",
   "execution_count": 4,
   "id": "cc497259",
   "metadata": {},
   "outputs": [
    {
     "data": {
      "image/png": "[encoded data removed]",
      "text/plain": [
       "<Figure size 432x288 with 1 Axes>"
      ]
     },
     "metadata": {
      "needs_background": "light"
     },
     "output_type": "display_data"
    }
   ],
   "source": [
    "plt.scatter(x,y,marker = 'o')\n",
    "plt.title(\"Scatter Plot of Data\")\n",
    "plt.xlabel(\"No. of study hours\")\n",
    "plt.ylabel(\"Percentage of marks obtained\")\n",
    "plt.show()"
   ]
  },
  {
   "cell_type": "markdown",
   "id": "0d01fded",
   "metadata": {},
   "source": [
    "### Step 5 : Splitting the data into testing and training data "
   ]
  },
  {
   "cell_type": "code",
   "execution_count": 5,
   "id": "1836923e",
   "metadata": {},
   "outputs": [],
   "source": [
    "x_train,x_test,y_train,y_test = train_test_split(x,y,train_size = 0.7 , random_state = 45)"
   ]
  },
  {
   "cell_type": "markdown",
   "id": "ba4ed0c7",
   "metadata": {},
   "source": [
    "### Step 6 : Building the model with training data"
   ]
  },
  {
   "cell_type": "code",
   "execution_count": 6,
   "id": "cf155502",
   "metadata": {},
   "outputs": [],
   "source": [
    "model = LinearRegression().fit(np.array(x_train).reshape(-1,1),np.array(y_train).reshape(-1,1))"
   ]
  },
  {
   "cell_type": "code",
   "execution_count": 7,
   "id": "8665d227",
   "metadata": {},
   "outputs": [
    {
     "name": "stdout",
     "output_type": "stream",
     "text": [
      "Model Coefficient\n",
      "Intercept :  1.2162641848495284\n",
      "Coefficient :  9.810924136707005\n"
     ]
    }
   ],
   "source": [
    "print(\"Model Coefficient\")\n",
    "print(\"Intercept : \",float(model.intercept_))\n",
    "print(\"Coefficient : \" ,float(model.coef_))"
   ]
  },
  {
   "cell_type": "markdown",
   "id": "bf5b1ac2",
   "metadata": {},
   "source": [
    "### Step 7 : Plotting the Regression line in the scatter plot"
   ]
  },
  {
   "cell_type": "code",
   "execution_count": 8,
   "id": "0e7a01da",
   "metadata": {},
   "outputs": [],
   "source": [
    "line = float(model.intercept_) + x*float(model.coef_)"
   ]
  },
  {
   "cell_type": "code",
   "execution_count": 9,
   "id": "01827eac",
   "metadata": {},
   "outputs": [
    {
     "data": {
      "image/png": "[encoded data removed]",
      "text/plain": [
       "<Figure size 432x288 with 1 Axes>"
      ]
     },
     "metadata": {
      "needs_background": "light"
     },
     "output_type": "display_data"
    }
   ],
   "source": [
    "plt.scatter(x,y)\n",
    "plt.plot(x,line,color = \"red\")\n",
    "plt.show()"
   ]
  },
  {
   "cell_type": "markdown",
   "id": "cf83bbc8",
   "metadata": {},
   "source": [
    "### Step 8 : Making prediction on the test data "
   ]
  },
  {
   "cell_type": "code",
   "execution_count": 10,
   "id": "74266556",
   "metadata": {},
   "outputs": [
    {
     "data": {
      "text/plain": [
       "16    25.743575\n",
       "20    27.705759\n",
       "13    33.592314\n",
       "10    76.760380\n",
       "17    19.857020\n",
       "24    77.741472\n",
       "22    38.497776\n",
       "19    73.817103\n",
       "Name: Hours, dtype: float64"
      ]
     },
     "execution_count": 10,
     "metadata": {},
     "output_type": "execute_result"
    }
   ],
   "source": [
    "y_predicted = float(model.intercept_) + x_test*float(model.coef_)\n",
    "y_predicted"
   ]
  },
  {
   "cell_type": "markdown",
   "id": "19b5faff",
   "metadata": {},
   "source": [
    "### Another method for predicting values from Model created"
   ]
  },
  {
   "cell_type": "code",
   "execution_count": 11,
   "id": "42f77b3a",
   "metadata": {},
   "outputs": [
    {
     "data": {
      "text/html": [
       "<div>\n",
       "<style scoped>\n",
       "    .dataframe tbody tr th:only-of-type {\n",
       "        vertical-align: middle;\n",
       "    }\n",
       "\n",
       "    .dataframe tbody tr th {\n",
       "        vertical-align: top;\n",
       "    }\n",
       "\n",
       "    .dataframe thead th {\n",
       "        text-align: right;\n",
       "    }\n",
       "</style>\n",
       "<table border=\"1\" class=\"dataframe\">\n",
       "  <thead>\n",
       "    <tr style=\"text-align: right;\">\n",
       "      <th></th>\n",
       "      <th>y_predicted</th>\n",
       "    </tr>\n",
       "  </thead>\n",
       "  <tbody>\n",
       "    <tr>\n",
       "      <th>0</th>\n",
       "      <td>25.743575</td>\n",
       "    </tr>\n",
       "    <tr>\n",
       "      <th>1</th>\n",
       "      <td>27.705759</td>\n",
       "    </tr>\n",
       "    <tr>\n",
       "      <th>2</th>\n",
       "      <td>33.592314</td>\n",
       "    </tr>\n",
       "    <tr>\n",
       "      <th>3</th>\n",
       "      <td>76.760380</td>\n",
       "    </tr>\n",
       "    <tr>\n",
       "      <th>4</th>\n",
       "      <td>19.857020</td>\n",
       "    </tr>\n",
       "    <tr>\n",
       "      <th>5</th>\n",
       "      <td>77.741472</td>\n",
       "    </tr>\n",
       "    <tr>\n",
       "      <th>6</th>\n",
       "      <td>38.497776</td>\n",
       "    </tr>\n",
       "    <tr>\n",
       "      <th>7</th>\n",
       "      <td>73.817103</td>\n",
       "    </tr>\n",
       "  </tbody>\n",
       "</table>\n",
       "</div>"
      ],
      "text/plain": [
       "   y_predicted\n",
       "0    25.743575\n",
       "1    27.705759\n",
       "2    33.592314\n",
       "3    76.760380\n",
       "4    19.857020\n",
       "5    77.741472\n",
       "6    38.497776\n",
       "7    73.817103"
      ]
     },
     "execution_count": 11,
     "metadata": {},
     "output_type": "execute_result"
    }
   ],
   "source": [
    "y_predict_1 = model.predict(np.array(x_test).reshape(-1,1))\n",
    "y_predict = pd.DataFrame(y_predict_1 , columns=[\"y_predicted\"])\n",
    "y_predict"
   ]
  },
  {
   "cell_type": "markdown",
   "id": "adf23915",
   "metadata": {},
   "source": [
    "### Step 9 : Comparing the predicted and test data set for evalutaing the model"
   ]
  },
  {
   "cell_type": "code",
   "execution_count": 12,
   "id": "39afb66f",
   "metadata": {},
   "outputs": [
    {
     "data": {
      "text/html": [
       "<div>\n",
       "<style scoped>\n",
       "    .dataframe tbody tr th:only-of-type {\n",
       "        vertical-align: middle;\n",
       "    }\n",
       "\n",
       "    .dataframe tbody tr th {\n",
       "        vertical-align: top;\n",
       "    }\n",
       "\n",
       "    .dataframe thead th {\n",
       "        text-align: right;\n",
       "    }\n",
       "</style>\n",
       "<table border=\"1\" class=\"dataframe\">\n",
       "  <thead>\n",
       "    <tr style=\"text-align: right;\">\n",
       "      <th></th>\n",
       "      <th>Actual</th>\n",
       "      <th>Predicted</th>\n",
       "    </tr>\n",
       "  </thead>\n",
       "  <tbody>\n",
       "    <tr>\n",
       "      <th>0</th>\n",
       "      <td>30</td>\n",
       "      <td>25.743575</td>\n",
       "    </tr>\n",
       "    <tr>\n",
       "      <th>1</th>\n",
       "      <td>30</td>\n",
       "      <td>27.705759</td>\n",
       "    </tr>\n",
       "    <tr>\n",
       "      <th>2</th>\n",
       "      <td>42</td>\n",
       "      <td>33.592314</td>\n",
       "    </tr>\n",
       "    <tr>\n",
       "      <th>3</th>\n",
       "      <td>85</td>\n",
       "      <td>76.760380</td>\n",
       "    </tr>\n",
       "    <tr>\n",
       "      <th>4</th>\n",
       "      <td>24</td>\n",
       "      <td>19.857020</td>\n",
       "    </tr>\n",
       "    <tr>\n",
       "      <th>5</th>\n",
       "      <td>86</td>\n",
       "      <td>77.741472</td>\n",
       "    </tr>\n",
       "    <tr>\n",
       "      <th>6</th>\n",
       "      <td>35</td>\n",
       "      <td>38.497776</td>\n",
       "    </tr>\n",
       "    <tr>\n",
       "      <th>7</th>\n",
       "      <td>69</td>\n",
       "      <td>73.817103</td>\n",
       "    </tr>\n",
       "  </tbody>\n",
       "</table>\n",
       "</div>"
      ],
      "text/plain": [
       "   Actual  Predicted\n",
       "0      30  25.743575\n",
       "1      30  27.705759\n",
       "2      42  33.592314\n",
       "3      85  76.760380\n",
       "4      24  19.857020\n",
       "5      86  77.741472\n",
       "6      35  38.497776\n",
       "7      69  73.817103"
      ]
     },
     "execution_count": 12,
     "metadata": {},
     "output_type": "execute_result"
    }
   ],
   "source": [
    "dataframe = pd.DataFrame({\"Actual\":y_test,\"Predicted\":y_predicted})\n",
    "dataframe.reset_index().drop(columns = [\"index\"])"
   ]
  },
  {
   "cell_type": "code",
   "execution_count": 13,
   "id": "28963875",
   "metadata": {},
   "outputs": [
    {
     "data": {
      "image/png": "[encoded data removed]",
      "text/plain": [
       "<Figure size 432x288 with 1 Axes>"
      ]
     },
     "metadata": {
      "needs_background": "light"
     },
     "output_type": "display_data"
    }
   ],
   "source": [
    "x_axis = np.arange(8)\n",
    "plt.bar(x_axis-0.2,dataframe[\"Actual\"],0.4,label = \"Actual\")\n",
    "plt.bar(x_axis+0.2,dataframe[\"Predicted\"],0.4,label = \"Predicted\")\n",
    "plt.legend(loc = \"upper left\")\n",
    "plt.title(\"Comparison Between Predicted and Actual\")\n",
    "plt.xlabel(\"Indicies\")\n",
    "plt.ylabel(\"Percentage of Mark\")\n",
    "plt.show()"
   ]
  },
  {
   "cell_type": "markdown",
   "id": "8a1e8350",
   "metadata": {},
   "source": [
    "### Step 10 : Prediction using given data "
   ]
  },
  {
   "cell_type": "code",
   "execution_count": 14,
   "id": "a93ed4a0",
   "metadata": {},
   "outputs": [
    {
     "name": "stdout",
     "output_type": "stream",
     "text": [
      "Number of Hours = 9.25\n",
      "Predicted percentage of score = 91.96731244938931\n"
     ]
    }
   ],
   "source": [
    "x_new = np.array([9.25])\n",
    "y_predict_new = float(model.intercept_) + x_new*float(model.coef_)\n",
    "print(\"Number of Hours =\",float(x_new))\n",
    "print(\"Predicted percentage of score =\",float(y_predict_new))"
   ]
  },
  {
   "cell_type": "markdown",
   "id": "14eac9f7",
   "metadata": {},
   "source": [
    "###  Step 11 : Importance statistics relating to Model"
   ]
  },
  {
   "cell_type": "code",
   "execution_count": 15,
   "id": "4eb0a96a",
   "metadata": {},
   "outputs": [
    {
     "name": "stdout",
     "output_type": "stream",
     "text": [
      "Mean Absolute Error =  5.489294806376118\n",
      "Mean Squared Error =  35.345962190770884\n",
      "Root Mean Squared Error =  5.945247025210213\n",
      "Coefficient of Determination =  0.9391488478760097\n"
     ]
    }
   ],
   "source": [
    "m_a_s = mean_absolute_error(y_test,y_predicted)\n",
    "print(\"Mean Absolute Error = \", m_a_s)\n",
    "m_s_e = mean_squared_error(y_test,y_predicted)\n",
    "print(\"Mean Squared Error = \", m_s_e)\n",
    "print(\"Root Mean Squared Error = \",np.sqrt(m_s_e))\n",
    "r2 = r2_score(y_test,y_predicted)\n",
    "print(\"Coefficient of Determination = \",r2)"
   ]
  },
  {
   "cell_type": "markdown",
   "id": "436fb363",
   "metadata": {},
   "source": [
    "Since coefficient of determination is 0.94 approximately.The model which we build best fits the data"
   ]
  },
  {
   "cell_type": "markdown",
   "id": "ef843ee2",
   "metadata": {},
   "source": [
    "### Conclusion"
   ]
  },
  {
   "cell_type": "markdown",
   "id": "7440efe6",
   "metadata": {},
   "source": [
    "I was successfully able to carry out the Prediction using Supervised Machine Learning Model.And evaluate model's performance using various parameters."
   ]
  },
  {
   "cell_type": "markdown",
   "id": "1fbbd0b5",
   "metadata": {},
   "source": [
    "## THANK YOU"
   ]
  }
 ],
 "metadata": {
  "kernelspec": {
   "display_name": "Python 3",
   "language": "python",
   "name": "python3"
  },
  "language_info": {
   "codemirror_mode": {
    "name": "ipython",
    "version": 3
   },
   "file_extension": ".py",
   "mimetype": "text/x-python",
   "name": "python",
   "nbconvert_exporter": "python",
   "pygments_lexer": "ipython3",
   "version": "3.8.8"
  }
 },
 "nbformat": 4,
 "nbformat_minor": 5
}
